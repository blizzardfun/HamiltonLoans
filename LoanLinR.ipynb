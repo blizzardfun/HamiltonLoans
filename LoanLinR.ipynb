{
 "cells": [
  {
   "cell_type": "markdown",
   "metadata": {},
   "source": [
    "# Linear Regression\n",
    "read loan data file into dataframe and run linear regression on the selected variables\n",
    "\n",
    "train the model and retrieve the coefficients for the selected variables and write to datafile\n",
    "\n",
    "coefficient / variable"
   ]
  },
  {
   "cell_type": "code",
   "execution_count": 1,
   "metadata": {},
   "outputs": [],
   "source": [
    "%matplotlib inline\n",
    "import matplotlib.pyplot as plt\n",
    "import pandas as pd\n",
    "from sklearn.model_selection import train_test_split\n",
    "from sklearn.linear_model import LogisticRegression, LinearRegression\n",
    "from sklearn import metrics\n",
    "from sklearn.feature_selection import f_regression, mutual_info_regression\n",
    "from sklearn.metrics import mean_squared_error, r2_score"
   ]
  },
  {
   "cell_type": "markdown",
   "metadata": {},
   "source": [
    "respondent IDs for each lender"
   ]
  },
  {
   "cell_type": "code",
   "execution_count": 2,
   "metadata": {},
   "outputs": [],
   "source": [
    "# banks\n",
    "USBank= 504713  # US Bank\n",
    "Wells=451965  #Wells Fargo\n",
    "Bell=19581    # Bell Bankte\n",
    "\n",
    "# online lenders\n",
    "Quicken=7197000003        #Quicken Loan\n",
    "AMEC=411941324             #American Mortgage & Equity Consultants Inc.\n",
    "Guaranteed=364327855      # Guaranteed Rate"
   ]
  },
  {
   "cell_type": "code",
   "execution_count": 3,
   "metadata": {},
   "outputs": [],
   "source": [
    "def FtestMutualInfo(X,y):\n",
    "# F-test in regression compares the fits of different linear models\n",
    "# Null Hypothesis – There is no significance to this independent variable\n",
    "#If the P value for the F-test of overall significance test is less than your significance level, \n",
    "# you can reject the null-hypothesis and conclude that your model provides a better fit than the intercept-only model.\n",
    "# mutual information can capture any kind of dependency between variables\n",
    "#    print(X.head(2))\n",
    "    f_test, pval = f_regression(X, y)\n",
    "    print(\"f_test\",f_test)\n",
    "    print(\"Pval\",pval)\n",
    "    \n",
    "    mi = mutual_info_regression(X, y)\n",
    "    print(\"mi\",mi)\n",
    "    print(\"---------------------------------\")\n",
    "    \n",
    "    return"
   ]
  },
  {
   "cell_type": "code",
   "execution_count": 4,
   "metadata": {},
   "outputs": [],
   "source": [
    "def LinRegress(X_train, y_train,X_test,y_test):\n",
    "#####################################\n",
    "# use Linear Regression to train and test a model\n",
    "# returning coefficients\n",
    "\n",
    "    # create model\n",
    "    LRmodel = LinearRegression()\n",
    "    # fit model with training data\n",
    "    LRmodel.fit(X_train, y_train)\n",
    "\n",
    "     # make predictions using the testing data\n",
    "    y_pred=LRmodel.predict(X_test)\n",
    "        \n",
    "#     # The coefficients\n",
    "    model_coeff=LRmodel.coef_\n",
    "#    print('Coefficients: \\n', model_coeff)\n",
    "    \n",
    "    feature_names = X_train.columns\n",
    "    feature_df=sorted(zip(model_coeff, feature_names), reverse=True)\n",
    "#     # The mean squared error\n",
    "#     print(\"Mean squared error: %.2f\" % mean_squared_error(y_test, y_pred))\n",
    "#     # Explained variance score: 1 is perfect prediction\n",
    "#     print('Variance score: %.2f' % r2_score(y_test,y_pred))\n",
    "\n",
    "#     # print params\n",
    "#    params=LRmodel.get_params(deep=False)\n",
    "#    print(\"params=\",params)\n",
    "\n",
    "\n",
    "    # validate the model using testing data\n",
    "    test_score=LRmodel.score(X_test, y_test)\n",
    "#    print(\"test_score\",test_score)\n",
    "\n",
    "    return feature_df\n"
   ]
  },
  {
   "cell_type": "code",
   "execution_count": 5,
   "metadata": {},
   "outputs": [],
   "source": [
    "def AssignData(set, data_df):\n",
    "##############################################\n",
    "# choose the lender group for test\n",
    "# set = 0 use all of data_df this is all lenders\n",
    "# set = 1 select from data_df for 'respondent id' USBank, Wells, Quicken\n",
    "# set > 2 select from data_df for 'respondent id' = set\n",
    "# split for train and test data\n",
    "# call LinRegress\n",
    "\n",
    "    #reduce the data used for set > 0 to a subset of lenders or a particular lender\n",
    "    if set > 2 :\n",
    "        data_df=data_df.loc[data_df['respondent id'] == set,:]\n",
    "    elif set == 1:\n",
    "        data_df=data_df.loc[(data_df['respondent id'] == USBank) | (data_df['respondent id'] == Wells) | (data_df['respondent id'] == Quicken), :]\n",
    "           \n",
    "        # Assign X (data) and y (target)\n",
    "    X=data_df.drop([\"action modified\",\"respondent id\"],axis=1)\n",
    "    y=data_df[\"action modified\"]\n",
    "#    print(\"shape\", X.shape, y.shape)  , stratify=y\n",
    "\n",
    "    X_train, X_test, y_train, y_test = train_test_split(X, y, random_state=1)\n",
    "\n",
    "#    FtestMutualInfo(X,y)\n",
    "    \n",
    "    return LinRegress(X_train, y_train,X_test,y_test)"
   ]
  },
  {
   "cell_type": "markdown",
   "metadata": {},
   "source": [
    "# main body of code \n",
    "read in data file\n",
    "\n",
    "prepare training data sets"
   ]
  },
  {
   "cell_type": "code",
   "execution_count": 6,
   "metadata": {},
   "outputs": [],
   "source": [
    "file=\"AllData2017.csv\"\n",
    "loan_data=pd.read_csv(file)\n",
    "\n",
    "loan_data=loan_data[[\"respondent id\",\"agency code\",\"property type\",\"loan purpose\",\"loan amount\",\"county\",\\\n",
    "                     \"applicant race 1\",\"sex\", \"hoepa status\",\"lien status\",\"loan type modified\",\\\n",
    "                     \"action modified\",\"income cleaned\",\"income loan ratio\"]]\n"
   ]
  },
  {
   "cell_type": "markdown",
   "metadata": {},
   "source": [
    "# run test\n"
   ]
  },
  {
   "cell_type": "code",
   "execution_count": 7,
   "metadata": {
    "scrolled": false
   },
   "outputs": [
    {
     "data": {
      "text/html": [
       "<div>\n",
       "<style scoped>\n",
       "    .dataframe tbody tr th:only-of-type {\n",
       "        vertical-align: middle;\n",
       "    }\n",
       "\n",
       "    .dataframe tbody tr th {\n",
       "        vertical-align: top;\n",
       "    }\n",
       "\n",
       "    .dataframe thead th {\n",
       "        text-align: right;\n",
       "    }\n",
       "</style>\n",
       "<table border=\"1\" class=\"dataframe\">\n",
       "  <thead>\n",
       "    <tr style=\"text-align: right;\">\n",
       "      <th></th>\n",
       "      <th>score</th>\n",
       "      <th>feature</th>\n",
       "    </tr>\n",
       "  </thead>\n",
       "  <tbody>\n",
       "    <tr>\n",
       "      <th>0</th>\n",
       "      <td>8.906281e-02</td>\n",
       "      <td>loan type modified</td>\n",
       "    </tr>\n",
       "    <tr>\n",
       "      <th>1</th>\n",
       "      <td>2.383197e-02</td>\n",
       "      <td>applicant race 1</td>\n",
       "    </tr>\n",
       "    <tr>\n",
       "      <th>2</th>\n",
       "      <td>8.337230e-04</td>\n",
       "      <td>agency code</td>\n",
       "    </tr>\n",
       "    <tr>\n",
       "      <th>3</th>\n",
       "      <td>5.820872e-05</td>\n",
       "      <td>income cleaned</td>\n",
       "    </tr>\n",
       "    <tr>\n",
       "      <th>4</th>\n",
       "      <td>4.503111e-05</td>\n",
       "      <td>loan amount</td>\n",
       "    </tr>\n",
       "    <tr>\n",
       "      <th>5</th>\n",
       "      <td>3.241338e-05</td>\n",
       "      <td>county</td>\n",
       "    </tr>\n",
       "    <tr>\n",
       "      <th>6</th>\n",
       "      <td>9.714451e-17</td>\n",
       "      <td>hoepa status</td>\n",
       "    </tr>\n",
       "    <tr>\n",
       "      <th>7</th>\n",
       "      <td>-3.307327e-04</td>\n",
       "      <td>income loan ratio</td>\n",
       "    </tr>\n",
       "    <tr>\n",
       "      <th>8</th>\n",
       "      <td>-2.954571e-02</td>\n",
       "      <td>sex</td>\n",
       "    </tr>\n",
       "    <tr>\n",
       "      <th>9</th>\n",
       "      <td>-8.670141e-02</td>\n",
       "      <td>loan purpose</td>\n",
       "    </tr>\n",
       "    <tr>\n",
       "      <th>10</th>\n",
       "      <td>-1.676910e-01</td>\n",
       "      <td>property type</td>\n",
       "    </tr>\n",
       "    <tr>\n",
       "      <th>11</th>\n",
       "      <td>-1.703858e-01</td>\n",
       "      <td>lien status</td>\n",
       "    </tr>\n",
       "  </tbody>\n",
       "</table>\n",
       "</div>"
      ],
      "text/plain": [
       "           score             feature\n",
       "0   8.906281e-02  loan type modified\n",
       "1   2.383197e-02    applicant race 1\n",
       "2   8.337230e-04         agency code\n",
       "3   5.820872e-05      income cleaned\n",
       "4   4.503111e-05         loan amount\n",
       "5   3.241338e-05              county\n",
       "6   9.714451e-17        hoepa status\n",
       "7  -3.307327e-04   income loan ratio\n",
       "8  -2.954571e-02                 sex\n",
       "9  -8.670141e-02        loan purpose\n",
       "10 -1.676910e-01       property type\n",
       "11 -1.703858e-01         lien status"
      ]
     },
     "execution_count": 7,
     "metadata": {},
     "output_type": "execute_result"
    }
   ],
   "source": [
    "feature_df=pd.DataFrame([])\n",
    "feature_df=feature_df.append(AssignData(1,loan_data),ignore_index=True) \n",
    "feature_df=feature_df.rename(columns={0:\"score\",1:\"feature\"})\n",
    "\n",
    "feature_df"
   ]
  },
  {
   "cell_type": "code",
   "execution_count": null,
   "metadata": {},
   "outputs": [],
   "source": [
    "feature_df.to_csv('LinRfeatures.csv', index=False,header=True,encoding='utf-8')\n"
   ]
  },
  {
   "cell_type": "code",
   "execution_count": null,
   "metadata": {},
   "outputs": [],
   "source": []
  }
 ],
 "metadata": {
  "kernelspec": {
   "display_name": "Python 3",
   "language": "python",
   "name": "python3"
  },
  "language_info": {
   "codemirror_mode": {
    "name": "ipython",
    "version": 3
   },
   "file_extension": ".py",
   "mimetype": "text/x-python",
   "name": "python",
   "nbconvert_exporter": "python",
   "pygments_lexer": "ipython3",
   "version": "3.6.5"
  }
 },
 "nbformat": 4,
 "nbformat_minor": 2
}
