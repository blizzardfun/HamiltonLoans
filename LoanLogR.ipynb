{
 "cells": [
  {
   "cell_type": "markdown",
   "metadata": {},
   "source": [
    "# Loan Logistic Regression\n",
    "reads in file   - organize data into 4 dataframes - all 3 lenders of interest, each lender: usbank, wells fargo and quicken loan\n",
    "    \n",
    "run logistic regression on each dataframe with the following output written to a csv file:\n",
    "\n",
    "    confusion matrix by quadrant (true-, false+, false-, true-)/ result count/lender(all, usbank, wells, quicken)\n",
    "\n",
    "    confusion matrix by quadrant with percent (true-, false+, false-, true-)/ percent of total / lender\n",
    "\n",
    "    model score / lender"
   ]
  },
  {
   "cell_type": "code",
   "execution_count": 1,
   "metadata": {},
   "outputs": [],
   "source": [
    "%matplotlib inline\n",
    "import matplotlib.pyplot as plt\n",
    "import pandas as pd\n",
    "from sklearn.model_selection import train_test_split\n",
    "from sklearn.linear_model import LogisticRegression\n",
    "from sklearn import metrics"
   ]
  },
  {
   "cell_type": "markdown",
   "metadata": {},
   "source": [
    "respondent IDs for each lender"
   ]
  },
  {
   "cell_type": "code",
   "execution_count": 2,
   "metadata": {},
   "outputs": [],
   "source": [
    "# banks\n",
    "USBank= 504713  # US Bank\n",
    "Wells=451965  #Wells Fargo\n",
    "# online lender\n",
    "Quicken=7197000003        #Quicken Loan"
   ]
  },
  {
   "cell_type": "code",
   "execution_count": 3,
   "metadata": {},
   "outputs": [],
   "source": [
    "def ConfusionSpread (lender,cnf_matrix):\n",
    "######################################\n",
    "# format confusion matrix for output as dataframe\n",
    "######################################\n",
    "#    print(\"confusion matrix\")\n",
    "#    print(cnf_matrix)\n",
    "    cnf_df=pd.DataFrame([['true-',cnf_matrix[0][0],lender],['false+',cnf_matrix[0][1],lender],\\\n",
    "                             ['false-',cnf_matrix[1][0],lender],['true+',cnf_matrix[1][1],lender]])\n",
    "    return cnf_df"
   ]
  },
  {
   "cell_type": "code",
   "execution_count": 4,
   "metadata": {},
   "outputs": [],
   "source": [
    "def ConfusionPercent (lender,cnf_matrix):\n",
    "######################################\n",
    "# format confusion matrix for output as dataframe using percents\n",
    "############################################\n",
    "#    print(\"confusion matrix\")\n",
    "#    print(cnf_matrix)\n",
    "    sum=cnf_matrix[0][0]+cnf_matrix[0][1]+cnf_matrix[1][0]+cnf_matrix[1][1]\n",
    "    cnf_df=pd.DataFrame([['true-',cnf_matrix[0][0]/sum,lender],['false+',cnf_matrix[0][1]/sum,lender],\\\n",
    "                             ['false-',cnf_matrix[1][0]/sum,lender],['true+',cnf_matrix[1][1]/sum,lender]])\n",
    "    return cnf_df"
   ]
  },
  {
   "cell_type": "code",
   "execution_count": 5,
   "metadata": {},
   "outputs": [],
   "source": [
    "def LogRegress(lender,X_train, y_train,X_test,y_test,output):\n",
    "#####################################\n",
    "# use Logistic Regression to train and test a model\n",
    "# output determines the dataframe returns \n",
    "# returning a dataframe with: \n",
    "# output =0 the confusion matrix, \n",
    "# output = 1  the confusion matrix percents \n",
    "# output = 2  the test score\n",
    "\n",
    "    # create model\n",
    "    LRmodel = LogisticRegression()\n",
    "    # fit model with training data\n",
    "    LRmodel.fit(X_train, y_train)\n",
    "\n",
    "       # confusion matrix \n",
    "    y_pred=LRmodel.predict(X_test)\n",
    "    cnf_matrix = metrics.confusion_matrix(y_test, y_pred)\n",
    "    cnf_result=ConfusionSpread(lender,cnf_matrix)\n",
    "    cnf_percent=ConfusionPercent(lender,cnf_matrix)\n",
    "    \n",
    "    # validate the model using testing data\n",
    "    test_score=LRmodel.score(X_test, y_test)\n",
    "    score_df=pd.DataFrame([[test_score,lender]])    \n",
    "#    print(\"test_score\",test_score)\n",
    "\n",
    "    if output == 0:\n",
    "        return cnf_result\n",
    "    elif output == 1:\n",
    "        return cnf_percent\n",
    "    elif output == 2:\n",
    "        return score_df"
   ]
  },
  {
   "cell_type": "code",
   "execution_count": 6,
   "metadata": {},
   "outputs": [],
   "source": [
    "def AssignData(lender, data_df,output):\n",
    "##############################################\n",
    "# prepared train and test data \n",
    "######################################\n",
    "        # Assign X (data) and y (target)\n",
    "    X=data_df.drop([\"action modified\",\"respondent id\"],axis=1)\n",
    "    y=data_df[\"action modified\"]\n",
    "#    print(\"shape\", X.shape, y.shape)  , stratify=y\n",
    "\n",
    "    X_train, X_test, y_train, y_test = train_test_split(X, y, random_state=1)\n",
    "\n",
    "    return LogRegress(lender,X_train, y_train,X_test,y_test,output)"
   ]
  },
  {
   "cell_type": "markdown",
   "metadata": {},
   "source": [
    "# main body of code \n",
    "read in data file\n",
    "\n",
    "prepare training data sets"
   ]
  },
  {
   "cell_type": "code",
   "execution_count": 7,
   "metadata": {},
   "outputs": [
    {
     "data": {
      "text/plain": [
       "26368"
      ]
     },
     "execution_count": 7,
     "metadata": {},
     "output_type": "execute_result"
    }
   ],
   "source": [
    "file=\"AllData2017.csv\"\n",
    "loan_data=pd.read_csv(file)\n",
    "\n",
    "loan_data=loan_data[[\"respondent id\",\"agency code\",\"property type\",\"loan purpose\",\"loan amount\",\\\n",
    "                     \"applicant race 1\",\"sex\",\"lien status\",\"loan type modified\",\\\n",
    "                     \"action modified\",\"income cleaned\",\"income loan ratio\"]]\n",
    "        \n",
    "lender_df=loan_data.loc[(loan_data['respondent id'] == USBank) | (loan_data['respondent id'] == Wells) | (loan_data['respondent id'] == Quicken), :]    \n",
    "\n",
    "usbank_df=loan_data.loc[loan_data['respondent id'] == USBank,:]\n",
    "wells_df=loan_data.loc[loan_data['respondent id'] == Wells,:]\n",
    "quicken_df=loan_data.loc[loan_data['respondent id'] == Quicken,:]\n",
    "\n",
    "lender_df[\"action modified\"].sum()"
   ]
  },
  {
   "cell_type": "markdown",
   "metadata": {},
   "source": [
    "# run tests and append results to dataframe\n",
    "for each lender train and test \n",
    "result = \n",
    "\n",
    "confusion matrix dataframe\n",
    "\n",
    "confusion matrix percent dataframe\n",
    "\n",
    "test score dataframe\n"
   ]
  },
  {
   "cell_type": "code",
   "execution_count": 8,
   "metadata": {},
   "outputs": [
    {
     "data": {
      "text/plain": [
       "34071"
      ]
     },
     "execution_count": 8,
     "metadata": {},
     "output_type": "execute_result"
    }
   ],
   "source": [
    "lender_df[\"action modified\"].count()"
   ]
  },
  {
   "cell_type": "code",
   "execution_count": 19,
   "metadata": {
    "scrolled": true
   },
   "outputs": [
    {
     "name": "stdout",
     "output_type": "stream",
     "text": [
      "   quadrant  cnf_result   lender\n",
      "0     true-         112      all\n",
      "1    false+        1839      all\n",
      "2    false-          54      all\n",
      "3     true+        6513      all\n",
      "4     true-          95   usbank\n",
      "5    false+         540   usbank\n",
      "6    false-          91   usbank\n",
      "7     true+        1948   usbank\n",
      "8     true-          69    wells\n",
      "9    false+         632    wells\n",
      "10   false-          22    wells\n",
      "11    true+        3026    wells\n",
      "12    true-           0  quicken\n",
      "13   false+         565  quicken\n",
      "14   false-           0  quicken\n",
      "15    true+        1531  quicken\n",
      "   quadrant  cnf_percent   lender\n",
      "0     true-     0.013149      all\n",
      "1    false+     0.215896      all\n",
      "2    false-     0.006340      all\n",
      "3     true+     0.764616      all\n",
      "4     true-     0.035527   usbank\n",
      "5    false+     0.201945   usbank\n",
      "6    false-     0.034031   usbank\n",
      "7     true+     0.728497   usbank\n",
      "8     true-     0.018405    wells\n",
      "9    false+     0.168578    wells\n",
      "10   false-     0.005868    wells\n",
      "11    true+     0.807149    wells\n",
      "12    true-     0.000000  quicken\n",
      "13   false+     0.269561  quicken\n",
      "14   false-     0.000000  quicken\n",
      "15    true+     0.730439  quicken\n"
     ]
    },
    {
     "data": {
      "text/html": [
       "<div>\n",
       "<style scoped>\n",
       "    .dataframe tbody tr th:only-of-type {\n",
       "        vertical-align: middle;\n",
       "    }\n",
       "\n",
       "    .dataframe tbody tr th {\n",
       "        vertical-align: top;\n",
       "    }\n",
       "\n",
       "    .dataframe thead th {\n",
       "        text-align: right;\n",
       "    }\n",
       "</style>\n",
       "<table border=\"1\" class=\"dataframe\">\n",
       "  <thead>\n",
       "    <tr style=\"text-align: right;\">\n",
       "      <th></th>\n",
       "      <th>score</th>\n",
       "      <th>lender</th>\n",
       "    </tr>\n",
       "  </thead>\n",
       "  <tbody>\n",
       "    <tr>\n",
       "      <th>0</th>\n",
       "      <td>0.777765</td>\n",
       "      <td>all</td>\n",
       "    </tr>\n",
       "    <tr>\n",
       "      <th>1</th>\n",
       "      <td>0.764024</td>\n",
       "      <td>usbank</td>\n",
       "    </tr>\n",
       "    <tr>\n",
       "      <th>2</th>\n",
       "      <td>0.825553</td>\n",
       "      <td>wells</td>\n",
       "    </tr>\n",
       "    <tr>\n",
       "      <th>3</th>\n",
       "      <td>0.730439</td>\n",
       "      <td>quicken</td>\n",
       "    </tr>\n",
       "  </tbody>\n",
       "</table>\n",
       "</div>"
      ],
      "text/plain": [
       "      score   lender\n",
       "0  0.777765      all\n",
       "1  0.764024   usbank\n",
       "2  0.825553    wells\n",
       "3  0.730439  quicken"
      ]
     },
     "execution_count": 19,
     "metadata": {},
     "output_type": "execute_result"
    }
   ],
   "source": [
    "cnf_out=0\n",
    "cnf_percent_out=1\n",
    "success_score=2\n",
    "# conpute confusion matrix output\n",
    "cnf_out_df=pd.DataFrame([])\n",
    "cnf_out_df=cnf_out_df.append(AssignData('all',lender_df,cnf_out),ignore_index=True)\n",
    "cnf_out_df=cnf_out_df.append(AssignData('usbank',usbank_df,cnf_out),ignore_index=True)\n",
    "cnf_out_df=cnf_out_df.append(AssignData('wells',wells_df,cnf_out),ignore_index=True)\n",
    "cnf_out_df=cnf_out_df.append(AssignData('quicken',quicken_df,cnf_out),ignore_index=True)\n",
    "cnf_out_df=cnf_out_df.rename(columns={0:'quadrant',1:'cnf_result',2:'lender'})\n",
    "print(cnf_out_df)\n",
    "\n",
    "# compute confusion matrix percent output\n",
    "cnf_percent_out_df=pd.DataFrame([])\n",
    "cnf_percent_out_df=cnf_percent_out_df.append(AssignData('all',lender_df,cnf_percent_out),ignore_index=True)\n",
    "cnf_percent_out_df=cnf_percent_out_df.append(AssignData('usbank',usbank_df,cnf_percent_out),ignore_index=True)\n",
    "cnf_percent_out_df=cnf_percent_out_df.append(AssignData('wells',wells_df,cnf_percent_out),ignore_index=True)\n",
    "cnf_percent_out_df=cnf_percent_out_df.append(AssignData('quicken',quicken_df,cnf_percent_out),ignore_index=True)\n",
    "cnf_percent_out_df=cnf_percent_out_df.rename(columns={0:'quadrant',1:'cnf_percent',2:'lender'})\n",
    "print(cnf_percent_out_df)\n",
    "\n",
    "# compute confusion matrix percent output\n",
    "success_score_df=pd.DataFrame([])\n",
    "success_score_df=success_score_df.append(AssignData('all',lender_df,success_score),ignore_index=True)\n",
    "success_score_df=success_score_df.append(AssignData('usbank',usbank_df,success_score),ignore_index=True)\n",
    "success_score_df=success_score_df.append(AssignData('wells',wells_df,success_score),ignore_index=True)\n",
    "success_score_df=success_score_df.append(AssignData('quicken',quicken_df,success_score),ignore_index=True)\n",
    "success_score_df=success_score_df.rename(columns={0:'score',1:'lender'})\n",
    "success_score_df"
   ]
  },
  {
   "cell_type": "code",
   "execution_count": 9,
   "metadata": {},
   "outputs": [],
   "source": [
    "cnf_out_df.to_csv('LogRconf.csv', index=False,header=True,encoding='utf-8')"
   ]
  },
  {
   "cell_type": "code",
   "execution_count": 10,
   "metadata": {},
   "outputs": [],
   "source": [
    "cnf_percent_out_df.to_csv('LogRconfpercent.csv', index=False,header=True,encoding='utf-8')"
   ]
  },
  {
   "cell_type": "code",
   "execution_count": 11,
   "metadata": {},
   "outputs": [],
   "source": [
    "success_score_df.to_csv('LogRscore.csv', index=False,header=True,encoding='utf-8')"
   ]
  },
  {
   "cell_type": "code",
   "execution_count": null,
   "metadata": {},
   "outputs": [],
   "source": []
  }
 ],
 "metadata": {
  "kernelspec": {
   "display_name": "Python 3",
   "language": "python",
   "name": "python3"
  },
  "language_info": {
   "codemirror_mode": {
    "name": "ipython",
    "version": 3
   },
   "file_extension": ".py",
   "mimetype": "text/x-python",
   "name": "python",
   "nbconvert_exporter": "python",
   "pygments_lexer": "ipython3",
   "version": "3.6.5"
  }
 },
 "nbformat": 4,
 "nbformat_minor": 2
}
