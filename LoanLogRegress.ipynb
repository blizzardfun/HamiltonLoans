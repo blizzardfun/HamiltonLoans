{
 "cells": [
  {
   "cell_type": "code",
   "execution_count": 1,
   "metadata": {},
   "outputs": [],
   "source": [
    "%matplotlib inline\n",
    "import matplotlib.pyplot as plt\n",
    "import pandas as pd\n",
    "from sklearn.model_selection import train_test_split\n",
    "from sklearn.linear_model import LogisticRegression"
   ]
  },
  {
   "cell_type": "markdown",
   "metadata": {},
   "source": [
    "respondent IDs for each lender"
   ]
  },
  {
   "cell_type": "code",
   "execution_count": 41,
   "metadata": {},
   "outputs": [],
   "source": [
    "# banks\n",
    "USBank= 504713\n",
    "Wells=451965\n",
    "Bell=19581\n",
    "\n",
    "# online lenders\n",
    "Quicken=7197000003\n",
    "AMEC=411941324\n",
    "Guaranteed=364327855\n"
   ]
  },
  {
   "cell_type": "code",
   "execution_count": null,
   "metadata": {},
   "outputs": [],
   "source": []
  },
  {
   "cell_type": "code",
   "execution_count": 42,
   "metadata": {},
   "outputs": [],
   "source": [
    "def LogRegress(X, y):\n",
    "#####################################\n",
    "# use Logistic Regression to train and test a model\n",
    "\n",
    "    X_train, X_test, y_train, y_test = train_test_split(X, y, random_state=1, stratify=y)\n",
    "    # create model\n",
    "    LRmodel = LogisticRegression()\n",
    "    # fit model with training data\n",
    "    LRmodel.fit(X_train, y_train)\n",
    "    # validate the model using testing data\n",
    "    test_score=LRmodel.score(X_test, y_test)\n",
    "    params=LRmodel.get_params(deep=False)\n",
    "    print(\"test_score\",test_score)\n",
    "    print(\"params=\",params)\n",
    "    return test_score"
   ]
  },
  {
   "cell_type": "code",
   "execution_count": 52,
   "metadata": {},
   "outputs": [],
   "source": [
    "def AppendResult(set, data_df,result_df):\n",
    "##############################################\n",
    "# set = 0 use all of data_df this is all lenders\n",
    "# set = 1 select from data_df for 'respondent id' in Banks\n",
    "# set = 2 select from data_df for 'respondent id' in Online\n",
    "# set > 3 select from data_df for 'respondent id' = set\n",
    "\n",
    "    #reduce the data used for set > 0\n",
    "    if set > 3 :\n",
    "        data_df=data_df.loc[data_df['respondent id'] == set,:]\n",
    "    elif set == 2:\n",
    "        data_df=data_df.loc[(data_df['respondent id'] == Quicken) | (data_df['respondent id'] == AMEC) | (data_df['respondent id'] == Guaranteed), :]\n",
    "    elif set == 1:\n",
    "        data_df=data_df.loc[(data_df['respondent id'] == USBank) | (data_df['respondent id'] == Wells) | (data_df['respondent id'] == Bell), :]\n",
    "     \n",
    "        \n",
    "        # Assign X (data) and y (target)\n",
    "    X=data_df.drop([\"action modified\",\"respondent id\"],axis=1)\n",
    "    y=data_df[\"action modified\"]\n",
    "    print(\"shape\", X.shape, y.shape)\n",
    "    result=LogRegress(X,y)\n",
    "    return result"
   ]
  },
  {
   "cell_type": "code",
   "execution_count": 61,
   "metadata": {},
   "outputs": [],
   "source": [
    "file=\"AllData2017.csv\"\n",
    "loan_data=pd.read_csv(file)\n",
    "loan_data=loan_data[[\"respondent id\",\"agency code\",\"loan type\",\"property type\",\"loan purpose\",\"loan amount\",\"county\",\\\n",
    "                     \"applicant race 1\",\"sex\",\"type of purchaser\", \"hoepa status\",\\\n",
    "                     \"lien status\",\"loan type modified\",\"action modified\",\"income cleaned\"]]\n",
    "sexless_data=loan_data[[\"respondent id\",\"agency code\",\"loan type\",\"property type\",\"loan purpose\",\"loan amount\",\"county\",\\\n",
    "                     \"applicant race 1\",\"type of purchaser\", \"hoepa status\",\\\n",
    "                     \"lien status\",\"loan type modified\",\"action modified\",\"income cleaned\"]]\n",
    "raceless_data=loan_data[[\"respondent id\",\"agency code\",\"loan type\",\"property type\",\"loan purpose\",\"loan amount\",\"county\",\\\n",
    "                     \"sex\",\"type of purchaser\", \"hoepa status\",\\\n",
    "                     \"lien status\",\"loan type modified\",\"action modified\",\"income cleaned\"]]\n"
   ]
  },
  {
   "cell_type": "code",
   "execution_count": 62,
   "metadata": {},
   "outputs": [
    {
     "name": "stdout",
     "output_type": "stream",
     "text": [
      "----------------------\n",
      "All Data\n",
      "shape (48029, 13) (48029,)\n",
      "test_score 0.8779147235176549\n",
      "params= {'C': 1.0, 'class_weight': None, 'dual': False, 'fit_intercept': True, 'intercept_scaling': 1, 'max_iter': 100, 'multi_class': 'ovr', 'n_jobs': 1, 'penalty': 'l2', 'random_state': None, 'solver': 'liblinear', 'tol': 0.0001, 'verbose': 0, 'warm_start': False}\n",
      "----------------------\n",
      "All Banks\n",
      "shape (32971, 13) (32971,)\n",
      "test_score 0.8558777144243601\n",
      "params= {'C': 1.0, 'class_weight': None, 'dual': False, 'fit_intercept': True, 'intercept_scaling': 1, 'max_iter': 100, 'multi_class': 'ovr', 'n_jobs': 1, 'penalty': 'l2', 'random_state': None, 'solver': 'liblinear', 'tol': 0.0001, 'verbose': 0, 'warm_start': False}\n",
      "----------------------\n",
      "All Online\n",
      "shape (15058, 13) (15058,)\n",
      "test_score 0.9628154050464808\n",
      "params= {'C': 1.0, 'class_weight': None, 'dual': False, 'fit_intercept': True, 'intercept_scaling': 1, 'max_iter': 100, 'multi_class': 'ovr', 'n_jobs': 1, 'penalty': 'l2', 'random_state': None, 'solver': 'liblinear', 'tol': 0.0001, 'verbose': 0, 'warm_start': False}\n",
      "----------------------\n",
      "USBank\n",
      "shape (10694, 13) (10694,)\n",
      "test_score 0.7733732236350037\n",
      "params= {'C': 1.0, 'class_weight': None, 'dual': False, 'fit_intercept': True, 'intercept_scaling': 1, 'max_iter': 100, 'multi_class': 'ovr', 'n_jobs': 1, 'penalty': 'l2', 'random_state': None, 'solver': 'liblinear', 'tol': 0.0001, 'verbose': 0, 'warm_start': False}\n",
      "----------------------\n",
      "Wells\n",
      "shape (14996, 13) (14996,)\n",
      "test_score 0.8882368631635102\n",
      "params= {'C': 1.0, 'class_weight': None, 'dual': False, 'fit_intercept': True, 'intercept_scaling': 1, 'max_iter': 100, 'multi_class': 'ovr', 'n_jobs': 1, 'penalty': 'l2', 'random_state': None, 'solver': 'liblinear', 'tol': 0.0001, 'verbose': 0, 'warm_start': False}\n"
     ]
    }
   ],
   "source": [
    "result_df=[]\n",
    "\n",
    "# get result for all data\n",
    "print(\"----------------------\")\n",
    "print(\"All Data\")\n",
    "result_df=AppendResult(0,loan_data,result_df)\n",
    "print(\"----------------------\")\n",
    "print(\"All Banks\")\n",
    "result_df=AppendResult(1,loan_data,result_df)\n",
    "print(\"----------------------\")\n",
    "print(\"All Online\")\n",
    "result_df=AppendResult(2,loan_data,result_df)\n",
    "print(\"----------------------\")\n",
    "print(\"USBank\")\n",
    "result_df=AppendResult(USBank,loan_data,result_df)\n",
    "print(\"----------------------\")\n",
    "print(\"Wells\")\n",
    "result_df=AppendResult(Wells,loan_data,result_df)"
   ]
  },
  {
   "cell_type": "code",
   "execution_count": null,
   "metadata": {},
   "outputs": [],
   "source": []
  }
 ],
 "metadata": {
  "kernelspec": {
   "display_name": "Python 3",
   "language": "python",
   "name": "python3"
  },
  "language_info": {
   "codemirror_mode": {
    "name": "ipython",
    "version": 3
   },
   "file_extension": ".py",
   "mimetype": "text/x-python",
   "name": "python",
   "nbconvert_exporter": "python",
   "pygments_lexer": "ipython3",
   "version": "3.6.5"
  }
 },
 "nbformat": 4,
 "nbformat_minor": 2
}
