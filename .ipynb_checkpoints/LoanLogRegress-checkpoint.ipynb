{
 "cells": [
  {
   "cell_type": "code",
   "execution_count": 1,
   "metadata": {},
   "outputs": [],
   "source": [
    "%matplotlib inline\n",
    "import matplotlib.pyplot as plt\n",
    "import pandas as pd\n",
    "from sklearn.model_selection import train_test_split\n",
    "from sklearn.linear_model import LogisticRegression"
   ]
  },
  {
   "cell_type": "raw",
   "metadata": {},
   "source": []
  },
  {
   "cell_type": "code",
   "execution_count": null,
   "metadata": {},
   "outputs": [],
   "source": [
    "USBank= 504713\n",
    "Wells=451965\n",
    "Bell=19581\n",
    "Quicken=7197000003\n",
    "AMEC=411941324\n",
    "Guaranteed=364327855\n"
   ]
  },
  {
   "cell_type": "code",
   "execution_count": null,
   "metadata": {},
   "outputs": [],
   "source": []
  },
  {
   "cell_type": "code",
   "execution_count": null,
   "metadata": {},
   "outputs": [],
   "source": [
    "def LogRegress(X, y):\n",
    "\n",
    "    X_train, X_test, y_train, y_test = train_test_split(X, y, random_state=1, stratify=y)\n",
    "    # create model\n",
    "    LRmodel = LogisticRegression()\n",
    "    # fit model with training data\n",
    "    LRmodel.fit(X_train, y_train)\n",
    "    # validate the model using testing data\n",
    "    test_score=LRmodel.score(X_test, y_test)\n",
    "    params=LRmodel.get_params(deep=False)\n",
    "    print(\"params=\",params)\n",
    "    return params"
   ]
  },
  {
   "cell_type": "code",
   "execution_count": null,
   "metadata": {},
   "outputs": [],
   "source": [
    "def AppendResult(set, data_df,result_df)\n",
    "##############################################\n",
    "# set = 0 use all of data_df this is all lenders\n",
    "# set = 1 use all of data_df this is for brick & mortar banks\n",
    "# set = 2 use all of data_df this is for online lenders\n",
    "# set = >3 select from data_df for 'respondent id' = set\n",
    "\n",
    "    if set > 3 :\n",
    "        data_df=data_df.loc[data_df['respondent id'] == set,:]\n",
    "        \n",
    "        # Assign X (data) and y (target)\n",
    "    X=data_df.drop(\"action modified\",axis=1)\n",
    "    y=data_df[\"action modified\"]\n",
    "    print(\"shape\", X.shape, y.shape)\n",
    "    return"
   ]
  },
  {
   "cell_type": "code",
   "execution_count": null,
   "metadata": {},
   "outputs": [],
   "source": [
    "file=\"AllBanks2017.csv\"\n",
    "loan_data=pd.read_csv(file)\n",
    "loan_data.head()"
   ]
  }
 ],
 "metadata": {
  "kernelspec": {
   "display_name": "Python 3",
   "language": "python",
   "name": "python3"
  },
  "language_info": {
   "codemirror_mode": {
    "name": "ipython",
    "version": 3
   },
   "file_extension": ".py",
   "mimetype": "text/x-python",
   "name": "python",
   "nbconvert_exporter": "python",
   "pygments_lexer": "ipython3",
   "version": "3.6.5"
  }
 },
 "nbformat": 4,
 "nbformat_minor": 2
}
