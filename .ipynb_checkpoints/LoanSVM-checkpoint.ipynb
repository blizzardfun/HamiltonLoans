{
 "cells": [
  {
   "cell_type": "code",
   "execution_count": 1,
   "metadata": {
    "collapsed": true
   },
   "outputs": [],
   "source": [
    "%matplotlib inline\n",
    "import matplotlib.pyplot as plt\n",
    "import pandas as pd\n",
    "from sklearn.model_selection import train_test_split\n",
    "from sklearn import metrics\n",
    "from sklearn.svm import SVC "
   ]
  },
  {
   "cell_type": "markdown",
   "metadata": {},
   "source": [
    "respondent IDs for each lender"
   ]
  },
  {
   "cell_type": "code",
   "execution_count": 2,
   "metadata": {
    "collapsed": true
   },
   "outputs": [],
   "source": [
    "# banks\n",
    "USBank= 504713  # US Bank\n",
    "Wells=451965  #Wells Fargo\n",
    "# online lender\n",
    "Quicken=7197000003        #Quicken Loan"
   ]
  },
  {
   "cell_type": "code",
   "execution_count": 3,
   "metadata": {
    "collapsed": true
   },
   "outputs": [],
   "source": [
    "def ConfusionSpread (lender,cnf_matrix):\n",
    "######################################\n",
    "# format confusion matrix for output as dataframe\n",
    "######################################\n",
    "#    print(\"confusion matrix\")\n",
    "#    print(cnf_matrix)\n",
    "    cnf_df=pd.DataFrame([['true-',cnf_matrix[0][0],lender],['false+',cnf_matrix[0][1],lender],\\\n",
    "                             ['false-',cnf_matrix[1][0],lender],['true+',cnf_matrix[1][1],lender]])\n",
    "    return cnf_df"
   ]
  },
  {
   "cell_type": "code",
   "execution_count": 4,
   "metadata": {
    "collapsed": true
   },
   "outputs": [],
   "source": [
    "def ConfusionPercent (lender,cnf_matrix):\n",
    "######################################\n",
    "# format confusion matrix for output as dataframe using percents\n",
    "############################################\n",
    "#    print(\"confusion matrix\")\n",
    "#    print(cnf_matrix)\n",
    "    sum=cnf_matrix[0][0]+cnf_matrix[0][1]+cnf_matrix[1][0]+cnf_matrix[1][1]\n",
    "    cnf_df=pd.DataFrame([['true-',cnf_matrix[0][0]/sum,lender],['false+',cnf_matrix[0][1]/sum,lender],\\\n",
    "                             ['false-',cnf_matrix[1][0]/sum,lender],['true+',cnf_matrix[1][1]/sum,lender]])\n",
    "    return cnf_df"
   ]
  },
  {
   "cell_type": "code",
   "execution_count": 5,
   "metadata": {
    "collapsed": true
   },
   "outputs": [],
   "source": [
    "def SVMModel(lender,X_train, y_train,X_test,y_test,output):\n",
    "#####################################\n",
    "# use Support Vector Machine to train and test a model\n",
    "# output determines the dataframe returnes \n",
    "# returning a dataframe with: \n",
    "# output =0 the confusion matrix, \n",
    "# output = 1  the confusion matrix percents \n",
    "# output = 2  the test score\n",
    "\n",
    "    print(\"1\")\n",
    "    # Support vector machine linear classifier\n",
    "    SVmodel = SVC(kernel='linear')\n",
    "    print(\"2\")\n",
    "    # fit model with training data\n",
    "    SVmodel.fit(X_train, y_train)\n",
    "    print(\"3\")\n",
    "    if output == 0:\n",
    "           # confusion matrix \n",
    "        y_pred=SVmodel.predict(X_test)\n",
    "        print(\"4\")\n",
    "        cnf_matrix = metrics.confusion_matrix(y_test, y_pred)\n",
    "        print(\"5\")\n",
    "        cnf_result=ConfusionSpread(lender,cnf_matrix)  \n",
    "        print(\"6\")\n",
    "        return cnf_result\n",
    "    elif output == 1:\n",
    "               # confusion matrix \n",
    "        y_pred=SVmodel.predict(X_test)\n",
    "        cnf_matrix = metrics.confusion_matrix(y_test, y_pred)\n",
    "        cnf_percent=ConfusionPercent(lender,cnf_matrix)\n",
    "        return cnf_percent\n",
    "    elif output == 2:\n",
    "            # validate the model using testing data\n",
    "        test_score=SVmodel.score(X_test, y_test)\n",
    "        score_df=pd.DataFrame([[test_score,lender]])    \n",
    "#       print(\"test_score\",test_score)\n",
    "        return score_df"
   ]
  },
  {
   "cell_type": "code",
   "execution_count": 6,
   "metadata": {
    "collapsed": true
   },
   "outputs": [],
   "source": [
    "def AssignData(lender, data_df,output):\n",
    "##############################################\n",
    "# prepared train and test data \n",
    "######################################\n",
    "\n",
    "        # Assign X (data) and y (target)\n",
    "    X=data_df.drop([\"action modified\",\"respondent id\"],axis=1)\n",
    "    y=data_df[\"action modified\"]\n",
    "#    print(\"shape\", X.shape, y.shape)  , stratify=y\n",
    "\n",
    "    X_train, X_test, y_train, y_test = train_test_split(X, y, random_state=1)\n",
    "\n",
    "    return SVMModel(lender,X_train, y_train,X_test,y_test,output)"
   ]
  },
  {
   "cell_type": "markdown",
   "metadata": {},
   "source": [
    "# main body of code \n",
    "read in data file\n",
    "\n",
    "prepare training data sets"
   ]
  },
  {
   "cell_type": "code",
   "execution_count": 9,
   "metadata": {
    "collapsed": true
   },
   "outputs": [],
   "source": [
    "file=\"AllData2017.csv\"\n",
    "loan_data=pd.read_csv(file)\n",
    "\n",
    "loan_data=loan_data[[\"respondent id\",\"agency code\",\"property type\",\"loan purpose\",\"loan amount\",\\\n",
    "                     \"applicant race 1\",\"sex\",\"lien status\",\"loan type modified\",\\\n",
    "                     \"action modified\",\"income cleaned\",\"income loan ratio\"]]\n",
    "        \n",
    "lender_df=loan_data.loc[(loan_data['respondent id'] == USBank) | (loan_data['respondent id'] == Wells) | (loan_data['respondent id'] == Quicken), :]    \n",
    "\n",
    "usbank_df=loan_data.loc[loan_data['respondent id'] == USBank,:]\n",
    "wells_df=loan_data.loc[loan_data['respondent id'] == Wells,:]\n",
    "quicken_df=loan_data.loc[loan_data['respondent id'] == Quicken,:]"
   ]
  },
  {
   "cell_type": "code",
   "execution_count": 10,
   "metadata": {
    "collapsed": true
   },
   "outputs": [
    {
     "name": "stdout",
     "output_type": "stream",
     "text": [
      "1\n",
      "2\n",
      "3\n",
      "4\n",
      "5\n",
      "6\n"
     ]
    }
   ],
   "source": [
    "cnf_out=0\n",
    "cnf_percent_out=1\n",
    "success_score=2\n",
    "# conpute confusion matrix output\n",
    "cnf_out_df=pd.DataFrame([])\n",
    "cnf_out_df=cnf_out_df.append(AssignData('quicken',quicken_df,cnf_out),ignore_index=True)"
   ]
  },
  {
   "cell_type": "code",
   "execution_count": null,
   "metadata": {
    "collapsed": true
   },
   "outputs": [
    {
     "name": "stdout",
     "output_type": "stream",
     "text": [
      "1\n",
      "2\n"
     ]
    }
   ],
   "source": [
    "cnf_out_df=cnf_out_df.append(AssignData('wells',wells_df,cnf_out),ignore_index=True)"
   ]
  },
  {
   "cell_type": "code",
   "execution_count": null,
   "metadata": {
    "collapsed": true
   },
   "outputs": [],
   "source": [
    "\n",
    "cnf_out_df=cnf_out_df.append(AssignData('all',lender_df,cnf_out),ignore_index=True)\n",
    "cnf_out_df=cnf_out_df.append(AssignData('usbank',usbank_df,cnf_out),ignore_index=True)\n",
    "cnf_out_df=cnf_out_df.append(AssignData('wells',wells_df,cnf_out),ignore_index=True)\n",
    "cnf_out_df=cnf_out_df.rename(columns={0:'quadrant',1:'cnf_result',2:'lender'})\n",
    "print(cnf_out_df)"
   ]
  },
  {
   "cell_type": "markdown",
   "metadata": {},
   "source": [
    "# run tests and append results to dataframe\n",
    "for each lender train and test \n",
    "result = \n",
    "\n",
    "confusion matrix dataframe\n",
    "\n",
    "confusion matrix percent dataframe\n",
    "\n",
    "test score dataframe\n"
   ]
  },
  {
   "cell_type": "code",
   "execution_count": null,
   "metadata": {
    "collapsed": true
   },
   "outputs": [],
   "source": [
    "cnf_out=0\n",
    "cnf_percent_out=1\n",
    "success_score=2\n",
    "# conpute confusion matrix output\n",
    "cnf_out_df=pd.DataFrame([])\n",
    "cnf_out_df=cnf_out_df.append(AssignData('all',lender_df,cnf_out),ignore_index=True)\n",
    "cnf_out_df=cnf_out_df.append(AssignData('usbank',usbank_df,cnf_out),ignore_index=True)\n",
    "cnf_out_df=cnf_out_df.append(AssignData('wells',wells_df,cnf_out),ignore_index=True)\n",
    "cnf_out_df=cnf_out_df.append(AssignData('quicken',quicken_df,cnf_out),ignore_index=True)\n",
    "cnf_out_df=cnf_out_df.rename(columns={0:'quadrant',1:'cnf_result',2:'lender'})\n",
    "print(cnf_out_df)\n",
    "\n",
    "# compute confusion matrix percent output\n",
    "cnf_percent_out_df=pd.DataFrame([])\n",
    "cnf_percent_out_df=cnf_percent_out_df.append(AssignData('all',lender_df,cnf_percent_out),ignore_index=True)\n",
    "cnf_percent_out_df=cnf_percent_out_df.append(AssignData('usbank',usbank_df,cnf_percent_out),ignore_index=True)\n",
    "cnf_percent_out_df=cnf_percent_out_df.append(AssignData('wells',wells_df,cnf_percent_out),ignore_index=True)\n",
    "cnf_percent_out_df=cnf_percent_out_df.append(AssignData('quicken',quicken_df,cnf_percent_out),ignore_index=True)\n",
    "cnf_percent_out_df=cnf_percent_out_df.rename(columns={0:'quadrant',1:'cnf_percent',2:'lender'})\n",
    "print(cnf_percent_out_df)\n",
    "\n",
    "# compute confusion matrix percent output\n",
    "success_score_df=pd.DataFrame([])\n",
    "success_score_df=success_score_df.append(AssignData('all',lender_df,success_score),ignore_index=True)\n",
    "success_score_df=success_score_df.append(AssignData('usbank',usbank_df,success_score),ignore_index=True)\n",
    "success_score_df=success_score_df.append(AssignData('wells',wells_df,success_score),ignore_index=True)\n",
    "success_score_df=success_score_df.append(AssignData('quicken',quicken_df,success_score),ignore_index=True)\n",
    "success_score_df=success_score_df.rename(columns={0:'score',1:'lender'})\n",
    "success_score_df"
   ]
  },
  {
   "cell_type": "code",
   "execution_count": null,
   "metadata": {
    "collapsed": true
   },
   "outputs": [],
   "source": [
    "cnf_out_df.to_csv('SVMconf.csv', index=False,header=True,encoding='utf-8')"
   ]
  },
  {
   "cell_type": "code",
   "execution_count": null,
   "metadata": {
    "collapsed": true
   },
   "outputs": [],
   "source": [
    "cnf_percent_out_df.to_csv('SVMconfpercent.csv', index=False,header=True,encoding='utf-8')"
   ]
  },
  {
   "cell_type": "code",
   "execution_count": null,
   "metadata": {
    "collapsed": true
   },
   "outputs": [],
   "source": [
    "success_score_df.to_csv('SVMscore.csv', index=False,header=True,encoding='utf-8')"
   ]
  }
 ],
 "metadata": {
  "kernelspec": {
   "display_name": "Python 3",
   "language": "python",
   "name": "python3"
  },
  "language_info": {
   "codemirror_mode": {
    "name": "ipython",
    "version": 3
   },
   "file_extension": ".py",
   "mimetype": "text/x-python",
   "name": "python",
   "nbconvert_exporter": "python",
   "pygments_lexer": "ipython3",
   "version": "3.6.5"
  }
 },
 "nbformat": 4,
 "nbformat_minor": 2
}
