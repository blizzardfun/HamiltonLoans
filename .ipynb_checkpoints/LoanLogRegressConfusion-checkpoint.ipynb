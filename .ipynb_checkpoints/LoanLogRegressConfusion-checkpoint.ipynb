{
 "cells": [
  {
   "cell_type": "code",
   "execution_count": 1,
   "metadata": {},
   "outputs": [],
   "source": [
    "%matplotlib inline\n",
    "import matplotlib.pyplot as plt\n",
    "import pandas as pd\n",
    "from sklearn.model_selection import train_test_split\n",
    "from sklearn.linear_model import LogisticRegression\n",
    "from sklearn import metrics"
   ]
  },
  {
   "cell_type": "markdown",
   "metadata": {},
   "source": [
    "respondent IDs for each lender"
   ]
  },
  {
   "cell_type": "code",
   "execution_count": 2,
   "metadata": {},
   "outputs": [],
   "source": [
    "# banks\n",
    "USBank= 504713  # US Bank\n",
    "Wells=451965  #Wells Fargo\n",
    "Bell=19581    # Bell Bank\n",
    "\n",
    "# online lenders\n",
    "Quicken=7197000003        #Quicken Loan\n",
    "AMEC=411941324             #American Mortgage & Equity Consultants Inc.\n",
    "Guaranteed=364327855      # Guaranteed Rate"
   ]
  },
  {
   "cell_type": "code",
   "execution_count": 3,
   "metadata": {},
   "outputs": [],
   "source": [
    "def ConfusionSpread (cnf_matrix):\n",
    "    print(\"confusion matrix\")\n",
    "    print(cnf_matrix)\n",
    "    cnf_list=[cnf_matrix[0][0],cnf_matrix[0][1],cnf_matrix[1][0],cnf_matrix[1][1]]\n",
    "    return cnf_list"
   ]
  },
  {
   "cell_type": "code",
   "execution_count": 4,
   "metadata": {},
   "outputs": [],
   "source": [
    "def LogRegress(X_train, y_train,X_test,y_test):\n",
    "#####################################\n",
    "# use Logistic Regression to train and test a model\n",
    "# returning test score\n",
    "\n",
    "    # create model\n",
    "    LRmodel = LogisticRegression()\n",
    "    # fit model with training data\n",
    "#     print(\"X-train\",X_train.head())\n",
    "#     print(\"y_train\",y_train.head())\n",
    "    LRmodel.fit(X_train, y_train)\n",
    "\n",
    "       # confusion matrix \n",
    "    y_pred=LRmodel.predict(X_test)\n",
    "    cnf_matrix = metrics.confusion_matrix(y_test, y_pred)\n",
    "\n",
    "    cnf_result=ConfusionSpread(cnf_matrix)\n",
    "    \n",
    "    # validate the model using testing data\n",
    "    test_score=LRmodel.score(X_test, y_test)\n",
    "#    params=LRmodel.get_params(deep=False)\n",
    "#    print(\"test_score\",test_score)\n",
    "#    print(\"params=\",params)\n",
    "    return cnf_result"
   ]
  },
  {
   "cell_type": "code",
   "execution_count": 5,
   "metadata": {},
   "outputs": [],
   "source": [
    "def AssignData(set, data_df):\n",
    "##############################################\n",
    "# choose the lender group for test\n",
    "# set = 0 use all of data_df this is all lenders\n",
    "# set = 1 select from data_df for 'respondent id' in usbank, wells, quicken\n",
    "# set > 2 select from data_df for 'respondent id' = set\n",
    "# split for train and test data\n",
    "# call LogRegress\n",
    "\n",
    "    #reduce the data used for set > 0 to a subset of lenders or a particular lender\n",
    "    if set > 2 :\n",
    "        data_df=data_df.loc[data_df['respondent id'] == set,:]\n",
    "    elif set == 1:\n",
    "        data_df=data_df.loc[(data_df['respondent id'] == USBank) | (data_df['respondent id'] == Wells) | (data_df['respondent id'] == Quicken), :]\n",
    "           \n",
    "        # Assign X (data) and y (target)\n",
    "    X=data_df.drop([\"action modified\",\"respondent id\"],axis=1)\n",
    "    y=data_df[\"action modified\"]\n",
    "#    print(\"shape\", X.shape, y.shape)  , stratify=y\n",
    "\n",
    "    X_train, X_test, y_train, y_test = train_test_split(X, y, random_state=1)\n",
    "\n",
    "    return LogRegress(X_train, y_train,X_test,y_test)"
   ]
  },
  {
   "cell_type": "code",
   "execution_count": 6,
   "metadata": {},
   "outputs": [],
   "source": [
    "def AssignData2(set, data_df,test_df):\n",
    "##############################################\n",
    "# FOR USE WHEN TRAINING AND TESTING ON DIFFERENT SETS\n",
    "# choose the lender group for BOTH train and test data\n",
    "# set = 0 use all of data_df this is all lenders\n",
    "# set = 1 select from data_df for 'respondent id' in usbank, wells quicken\n",
    "# set > 2 select from data_df for 'respondent id' = set\n",
    "# call LogRegress\n",
    "\n",
    "\n",
    "    #reduce the data used for set > 0 to a subset of lenders or a particular lender\n",
    "    if set > 2 :\n",
    "        data_df=data_df.loc[data_df['respondent id'] == set,:]\n",
    "        test_df=test_df.loc[test_df['respondent id'] == set,:]\n",
    "    elif set == 1:\n",
    "        data_df=data_df.loc[(data_df['respondent id'] == USBank) | (data_df['respondent id'] == Wells) | (data_df['respondent id'] == Quicken), :]\n",
    "        test_df=test_df.loc[(test_df['respondent id'] == USBank) | (test_df['respondent id'] == Wells) | (test_df['respondent id'] == Quicken), :]\n",
    "           \n",
    "        # Assign X (data) and y (target) for training\n",
    "    X_train=data_df.drop([\"action modified\",\"respondent id\"],axis=1)\n",
    "    y_train=data_df[\"action modified\"]\n",
    "    \n",
    "            # Assign X (data) and y (target) for test\n",
    "    X_test=test_df.drop([\"action modified\",\"respondent id\"],axis=1)\n",
    "    y_test=test_df[\"action modified\"]\n",
    "#    print(\"shape\", X.shape, y.shape)\n",
    "\n",
    "\n",
    "    return LogRegress(X_train, y_train,X_test,y_test)"
   ]
  },
  {
   "cell_type": "code",
   "execution_count": null,
   "metadata": {},
   "outputs": [],
   "source": [
    "def LenderTest(test_data):\n",
    "#################################################\n",
    "# goes through the 4 tests of lender groups with one version of the test data\n",
    "# all 3 usbank, wells, quicken\n",
    "#  USBANK \n",
    "# Wells \n",
    "# Quicken\n",
    "# returns the results in list\n",
    "############################################################\n",
    "    # for returning test score\n",
    "#     result_list=[]\n",
    "#     # get result for all 3\n",
    "#     result_list.append(AssignData(1,test_data))\n",
    "#     # result for USBank \n",
    "#     result_list.append(AssignData(USBank,test_data))\n",
    "#         # result for Wells\n",
    "#     result_list.append(AssignData(Wells,test_data))\n",
    "#     #result for Quicken\n",
    "#     result_list.append(AssignData(Quicken,test_data))\n",
    "\n",
    "    # for returning confusion matrix\n",
    "    result_dict={}\n",
    "    # get result for all 3\n",
    "    result_dict['all']=AssignData(1,test_data)\n",
    "    # result for USBank \n",
    "    result_dict['usbank']=AssignData(USBank,test_data)\n",
    "        # result for Wells\n",
    "    result_dict['wells']=AssignData(Wells,test_data)\n",
    "    #result for Quicken\n",
    "    result_dict['quicken']=AssignData(Quicken,test_data)\n",
    "\n",
    "    return result_dict"
   ]
  },
  {
   "cell_type": "code",
   "execution_count": null,
   "metadata": {},
   "outputs": [],
   "source": [
    "def LenderTest2(train_data,test_data):\n",
    "#################################################\n",
    "# goes through the 4 tests of lender groups with one version of the test data\n",
    "# all 3 usbank, wells, quicken\n",
    "#  USBANK \n",
    "# Wells \n",
    "# Quicken\n",
    "# returns the results in list\n",
    "############################################################\n",
    "#     # for returning test score\n",
    "#     result_list=[]\n",
    "#     # get result for all 3\n",
    "#     result_list.append(AssignData2(1,train_data,test_data))\n",
    "#     # result for USBank, \n",
    "#     result_list.append(AssignData2(USBank,train_data,test_data))\n",
    "#         # result for Wells\n",
    "#     result_list.append(AssignData2(Wells,train_data,test_data))\n",
    "#     #result for Quicken\n",
    "#     result_list.append(AssignData2(Quicken,train_data,test_data))\n",
    "\n",
    "# for returning confusion matirx\n",
    "    result_dict={}\n",
    "    # get result for all 3\n",
    "    result_dict['all']=AssignData2(1,train_data,test_data)\n",
    "    # result for USBank, \n",
    "    result_dict['usbank']=AssignData2(USBank,train_data,test_data)\n",
    "        # result for Wells\n",
    "    result_dict['wells']=AssignData2(Wells,train_data,test_data)\n",
    "    #result for Quicken\n",
    "     result_dict['quicken']=AssignData2(Quicken,train_data,test_data)\n",
    "\n",
    "    return result_dict"
   ]
  },
  {
   "cell_type": "markdown",
   "metadata": {},
   "source": [
    "# main body of code \n",
    "read in data file\n",
    "\n",
    "prepare training data sets"
   ]
  },
  {
   "cell_type": "code",
   "execution_count": null,
   "metadata": {},
   "outputs": [],
   "source": [
    "file=\"AllData2017.csv\"\n",
    "loan_data=pd.read_csv(file)\n",
    "\n",
    "loan_data=loan_data[[\"respondent id\",\"agency code\",\"property type\",\"loan purpose\",\"loan amount\",\\\n",
    "                     \"applicant race 1\",\"sex\",\"lien status\",\"loan type modified\",\\\n",
    "                     \"action modified\",\"income cleaned\",\"income loan ratio\"]]\n",
    "\n",
    "race_sex_less_data=loan_data.drop([\"sex\",\"applicant race 1\"], axis=1)\n"
   ]
  },
  {
   "cell_type": "markdown",
   "metadata": {},
   "source": [
    "prepare unique group test data sets "
   ]
  },
  {
   "cell_type": "code",
   "execution_count": null,
   "metadata": {},
   "outputs": [],
   "source": [
    "# single gender  - genderless data\n",
    "female_data=loan_data[loan_data[\"sex\"] == 2]\n",
    "female_data=female_data.drop([\"sex\",\"applicant race 1\"],axis=1)\n",
    "male_data=loan_data[loan_data[\"sex\"] == 1]\n",
    "male_data=male_data.drop([\"sex\",\"applicant race 1\"],axis=1)\n",
    "\n",
    "#single race - raceless data\n",
    "asian_data=loan_data[loan_data[\"applicant race 1\"] == 2]\n",
    "asian_data=asian_data.drop([\"sex\",\"applicant race 1\"],axis=1)\n",
    "\n",
    "black_data=loan_data[loan_data[\"applicant race 1\"] == 3]\n",
    "black_data=black_data.drop([\"sex\",\"applicant race 1\"],axis=1)\n",
    "\n",
    "white_data=loan_data[loan_data[\"applicant race 1\"] == 5]\n",
    "white_data=white_data.drop([\"sex\",\"applicant race 1\"],axis=1)\n"
   ]
  },
  {
   "cell_type": "markdown",
   "metadata": {},
   "source": [
    "# run tests and append lender sets to dataframe\n",
    "for each training group run with same train and test data\n",
    "\n",
    "next run with training data and unique group test data"
   ]
  },
  {
   "cell_type": "code",
   "execution_count": null,
   "metadata": {
    "scrolled": true
   },
   "outputs": [],
   "source": [
    "result_df=pd.DataFrame(index=[\"all\",\"usbank\",\"wells\",\"quicken\"])\n",
    "\n",
    "#race gender included\n",
    "result_df[\"test\"]=LenderTest(loan_data)\n",
    "#blind test\n",
    "result_df[\"blind test\"]=LenderTest(race_sex_less_data)\n",
    "#results for the effectof gender \n",
    "result_df[\"female\"]=LenderTest2(race_sex_less_data,female_data)\n",
    "result_df[\"male\"]=LenderTest2(race_sex_less_data,male_data)\n",
    "\n",
    "#results for the effect of race\n",
    "result_df[\"asian\"]=LenderTest2(race_sex_less_data,asian_data)\n",
    "result_df[\"black\"]=LenderTest2(race_sex_less_data,black_data)\n",
    "result_df[\"white\"]=LenderTest2(race_sex_less_data,white_data)\n",
    "\n",
    "result_df"
   ]
  },
  {
   "cell_type": "code",
   "execution_count": null,
   "metadata": {},
   "outputs": [],
   "source": [
    "result_df.to_csv('logregress.csv', index=False,header=True,encoding='utf-8')"
   ]
  },
  {
   "cell_type": "code",
   "execution_count": null,
   "metadata": {},
   "outputs": [],
   "source": []
  }
 ],
 "metadata": {
  "kernelspec": {
   "display_name": "Python 3",
   "language": "python",
   "name": "python3"
  },
  "language_info": {
   "codemirror_mode": {
    "name": "ipython",
    "version": 3
   },
   "file_extension": ".py",
   "mimetype": "text/x-python",
   "name": "python",
   "nbconvert_exporter": "python",
   "pygments_lexer": "ipython3",
   "version": "3.6.5"
  }
 },
 "nbformat": 4,
 "nbformat_minor": 2
}
