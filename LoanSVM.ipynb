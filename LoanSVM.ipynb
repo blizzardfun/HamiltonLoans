{
 "cells": [
  {
   "cell_type": "code",
   "execution_count": 1,
   "metadata": {},
   "outputs": [],
   "source": [
    "%matplotlib inline\n",
    "import matplotlib.pyplot as plt\n",
    "import pandas as pd\n",
    "from sklearn.model_selection import train_test_split\n",
    "from sklearn import metrics\n",
    "from sklearn.svm import SVC "
   ]
  },
  {
   "cell_type": "markdown",
   "metadata": {},
   "source": [
    "respondent IDs for each lender"
   ]
  },
  {
   "cell_type": "code",
   "execution_count": 2,
   "metadata": {},
   "outputs": [],
   "source": [
    "# banks\n",
    "USBank= 504713  # US Bank\n",
    "Wells=451965  #Wells Fargo\n",
    "# online lender\n",
    "Quicken=7197000003        #Quicken Loan"
   ]
  },
  {
   "cell_type": "code",
   "execution_count": 3,
   "metadata": {},
   "outputs": [],
   "source": [
    "def ConfusionSpread (lender,cnf_matrix):\n",
    "######################################\n",
    "# format confusion matrix for output as dataframe\n",
    "######################################\n",
    "#    print(\"confusion matrix\")\n",
    "#    print(cnf_matrix)\n",
    "    cnf_df=pd.DataFrame([['true-',cnf_matrix[0][0],lender],['false+',cnf_matrix[0][1],lender],\\\n",
    "                             ['false-',cnf_matrix[1][0],lender],['true+',cnf_matrix[1][1],lender]])\n",
    "    return cnf_df"
   ]
  },
  {
   "cell_type": "code",
   "execution_count": 4,
   "metadata": {},
   "outputs": [],
   "source": [
    "def ConfusionPercent (lender,cnf_matrix):\n",
    "######################################\n",
    "# format confusion matrix for output as dataframe using percents\n",
    "############################################\n",
    "#    print(\"confusion matrix\")\n",
    "#    print(cnf_matrix)\n",
    "    sum=cnf_matrix[0][0]+cnf_matrix[0][1]+cnf_matrix[1][0]+cnf_matrix[1][1]\n",
    "    cnf_df=pd.DataFrame([['true-',cnf_matrix[0][0]/sum,lender],['false+',cnf_matrix[0][1]/sum,lender],\\\n",
    "                             ['false-',cnf_matrix[1][0]/sum,lender],['true+',cnf_matrix[1][1]/sum,lender]])\n",
    "    return cnf_df"
   ]
  },
  {
   "cell_type": "markdown",
   "metadata": {},
   "source": [
    "# main body of code \n",
    "read in data file\n",
    "\n",
    "prepare training data sets"
   ]
  },
  {
   "cell_type": "code",
   "execution_count": 5,
   "metadata": {},
   "outputs": [],
   "source": [
    "file=\"AllData2017.csv\"\n",
    "loan_data=pd.read_csv(file)\n",
    "\n",
    "loan_data=loan_data[[\"respondent id\",\"agency code\",\"property type\",\"loan purpose\",\"loan amount\",\\\n",
    "                     \"applicant race 1\",\"sex\",\"lien status\",\"loan type modified\",\\\n",
    "                     \"action modified\",\"income cleaned\",\"income loan ratio\"]]\n",
    "        \n",
    "lender_df=loan_data.loc[(loan_data['respondent id'] == USBank) | (loan_data['respondent id'] == Wells) | (loan_data['respondent id'] == Quicken), :]    \n",
    "\n",
    "usbank_df=loan_data.loc[loan_data['respondent id'] == USBank,:]\n",
    "wells_df=loan_data.loc[loan_data['respondent id'] == Wells,:]\n",
    "quicken_df=loan_data.loc[loan_data['respondent id'] == Quicken,:]"
   ]
  },
  {
   "cell_type": "markdown",
   "metadata": {},
   "source": [
    "# run tests and append results to dataframe\n",
    "for each lender train and test \n",
    "result = \n",
    "\n",
    "confusion matrix dataframe\n",
    "\n",
    "confusion matrix percent dataframe\n",
    "\n",
    "test score dataframe\n"
   ]
  },
  {
   "cell_type": "code",
   "execution_count": 6,
   "metadata": {},
   "outputs": [],
   "source": [
    "cnf_out=0\n",
    "cnf_percent_out=1\n",
    "success_score=2\n",
    "# conpute confusion matrix output\n",
    "cnf_out_df=pd.DataFrame([])\n",
    "cnf_percent_out_df=pd.DataFrame([])\n",
    "success_score_df=pd.DataFrame([])\n"
   ]
  },
  {
   "cell_type": "code",
   "execution_count": 7,
   "metadata": {},
   "outputs": [],
   "source": [
    "lender='all'\n",
    "\n",
    "# Assign X (data) and y (target)\n",
    "X=lender_df.drop([\"action modified\",\"respondent id\"],axis=1)\n",
    "y=lender_df[\"action modified\"]\n",
    "#    print(\"shape\", X.shape, y.shape)  , stratify=y\n",
    "\n",
    "X_train, X_test, y_train, y_test = train_test_split(X, y,test_size=0.75, random_state=1)\n",
    "\n",
    "# Support vector machine linear classifier\n",
    "SVmodel = SVC(kernel='linear')\n",
    "# fit model with training data\n",
    "SVmodel.fit(X_train, y_train)\n",
    "\n",
    "   # confusion matrix \n",
    "y_pred=SVmodel.predict(X_test)\n",
    "cnf_matrix = metrics.confusion_matrix(y_test, y_pred)\n",
    "cnf_result=ConfusionSpread(lender,cnf_matrix)  \n",
    "cnf_percent=ConfusionPercent(lender,cnf_matrix)\n",
    "\n",
    "    # validate the model using testing data\n",
    "test_score=SVmodel.score(X_test, y_test)\n",
    "score_df=pd.DataFrame([[test_score,lender]])    \n",
    "#       print(\"test_score\",test_score)\n",
    "\n",
    "cnf_out_df=cnf_out_df.append(cnf_result,ignore_index=True)\n",
    "cnf_percent_out_df=cnf_percent_out_df.append(cnf_percent,ignore_index=True)\n",
    "success_score_df=success_score_df.append(score_df,ignore_index=True)"
   ]
  },
  {
   "cell_type": "code",
   "execution_count": null,
   "metadata": {},
   "outputs": [],
   "source": [
    "lender='usbank'\n",
    "\n",
    "# Assign X (data) and y (target)\n",
    "X=usbank_df.drop([\"action modified\",\"respondent id\"],axis=1)\n",
    "y=usbank_df[\"action modified\"]\n",
    "#    print(\"shape\", X.shape, y.shape)  , stratify=y\n",
    "\n",
    "X_train, X_test, y_train, y_test = train_test_split(X, y,test_size=0.6, random_state=1)\n",
    "# Support vector machine linear classifier\n",
    "SVmodel = SVC(kernel='linear')\n",
    "# fit model with training data\n",
    "SVmodel.fit(X_train, y_train)\n",
    "\n",
    "   # confusion matrix \n",
    "y_pred=SVmodel.predict(X_test)\n",
    "cnf_matrix = metrics.confusion_matrix(y_test, y_pred)\n",
    "cnf_result=ConfusionSpread(lender,cnf_matrix)  \n",
    "cnf_percent=ConfusionPercent(lender,cnf_matrix)\n",
    "\n",
    "    # validate the model using testing data\n",
    "test_score=SVmodel.score(X_test, y_test)\n",
    "score_df=pd.DataFrame([[test_score,lender]])    \n",
    "#       print(\"test_score\",test_score)\n",
    "\n",
    "cnf_out_df=cnf_out_df.append(cnf_result,ignore_index=True)\n",
    "cnf_percent_out_df=cnf_percent_out_df.append(cnf_percent,ignore_index=True)\n",
    "success_score_df=success_score_df.append(score_df,ignore_index=True)"
   ]
  },
  {
   "cell_type": "code",
   "execution_count": null,
   "metadata": {},
   "outputs": [],
   "source": [
    "lender='wells'\n",
    "\n",
    "# Assign X (data) and y (target)\n",
    "X=wells_df.drop([\"action modified\",\"respondent id\"],axis=1)\n",
    "y=wells_df[\"action modified\"]\n",
    "#    print(\"shape\", X.shape, y.shape)  , stratify=y\n",
    "\n",
    "X_train, X_test, y_train, y_test = train_test_split(X, y,test_size=0.6, random_state=1)\n",
    "# Support vector machine linear classifier\n",
    "SVmodel = SVC(kernel='linear')\n",
    "# fit model with training data\n",
    "SVmodel.fit(X_train, y_train)\n",
    "\n",
    "   # confusion matrix \n",
    "y_pred=SVmodel.predict(X_test)\n",
    "cnf_matrix = metrics.confusion_matrix(y_test, y_pred)\n",
    "cnf_result=ConfusionSpread(lender,cnf_matrix)  \n",
    "cnf_percent=ConfusionPercent(lender,cnf_matrix)\n",
    "\n",
    "    # validate the model using testing data\n",
    "test_score=SVmodel.score(X_test, y_test)\n",
    "score_df=pd.DataFrame([[test_score,lender]])    \n",
    "#       print(\"test_score\",test_score)\n",
    "\n",
    "# append confusion matrix, confusion matrix percent and test score output\n",
    "cnf_out_df=cnf_out_df.append(cnf_result,ignore_index=True)\n",
    "cnf_percent_out_df=cnf_percent_out_df.append(cnf_percent,ignore_index=True)\n",
    "success_score_df=success_score_df.append(score_df,ignore_index=True)"
   ]
  },
  {
   "cell_type": "code",
   "execution_count": null,
   "metadata": {},
   "outputs": [],
   "source": [
    "lender='quicken'\n",
    "\n",
    "# Assign X (data) and y (target)\n",
    "X=quicken_df.drop([\"action modified\",\"respondent id\"],axis=1)\n",
    "y=quicken_df[\"action modified\"]\n",
    "#    print(\"shape\", X.shape, y.shape)  , stratify=y\n",
    "\n",
    "X_train, X_test, y_train, y_test = train_test_split(X, y, random_state=1)\n",
    "# Support vector machine linear classifier\n",
    "SVmodel = SVC(kernel='linear')\n",
    "# fit model with training data\n",
    "SVmodel.fit(X_train, y_train)\n",
    "\n",
    "   # confusion matrix \n",
    "y_pred=SVmodel.predict(X_test)\n",
    "cnf_matrix = metrics.confusion_matrix(y_test, y_pred)\n",
    "cnf_result=ConfusionSpread(lender,cnf_matrix)  \n",
    "cnf_percent=ConfusionPercent(lender,cnf_matrix)\n",
    "\n",
    "    # validate the model using testing data\n",
    "test_score=SVmodel.score(X_test, y_test)\n",
    "score_df=pd.DataFrame([[test_score,lender]])    \n",
    "#       print(\"test_score\",test_score)\n",
    "\n",
    "\n",
    "cnf_out_df=cnf_out_df.append(cnf_result,ignore_index=True)\n",
    "cnf_percent_out_df=cnf_percent_out_df.append(cnf_percent,ignore_index=True)\n",
    "success_score_df=success_score_df.append(score_df,ignore_index=True)"
   ]
  },
  {
   "cell_type": "code",
   "execution_count": 9,
   "metadata": {},
   "outputs": [
    {
     "name": "stdout",
     "output_type": "stream",
     "text": [
      "        0      1    2\n",
      "0   true-      0  all\n",
      "1  false+   5780  all\n",
      "2  false-      0  all\n",
      "3   true+  19774  all\n",
      "        0         1    2\n",
      "0   true-  0.000000  all\n",
      "1  false+  0.226188  all\n",
      "2  false-  0.000000  all\n",
      "3   true+  0.773812  all\n"
     ]
    },
    {
     "data": {
      "text/html": [
       "<div>\n",
       "<style scoped>\n",
       "    .dataframe tbody tr th:only-of-type {\n",
       "        vertical-align: middle;\n",
       "    }\n",
       "\n",
       "    .dataframe tbody tr th {\n",
       "        vertical-align: top;\n",
       "    }\n",
       "\n",
       "    .dataframe thead th {\n",
       "        text-align: right;\n",
       "    }\n",
       "</style>\n",
       "<table border=\"1\" class=\"dataframe\">\n",
       "  <thead>\n",
       "    <tr style=\"text-align: right;\">\n",
       "      <th></th>\n",
       "      <th>0</th>\n",
       "      <th>1</th>\n",
       "    </tr>\n",
       "  </thead>\n",
       "  <tbody>\n",
       "    <tr>\n",
       "      <th>0</th>\n",
       "      <td>0.773812</td>\n",
       "      <td>all</td>\n",
       "    </tr>\n",
       "  </tbody>\n",
       "</table>\n",
       "</div>"
      ],
      "text/plain": [
       "          0    1\n",
       "0  0.773812  all"
      ]
     },
     "execution_count": 9,
     "metadata": {},
     "output_type": "execute_result"
    }
   ],
   "source": [
    "print(cnf_out_df)\n",
    "print(cnf_percent_out_df)\n",
    "success_score_df"
   ]
  },
  {
   "cell_type": "code",
   "execution_count": 10,
   "metadata": {},
   "outputs": [],
   "source": [
    "cnf_out_df.to_csv('SVMconf.csv', index=False,header=True,encoding='utf-8')"
   ]
  },
  {
   "cell_type": "code",
   "execution_count": 11,
   "metadata": {},
   "outputs": [],
   "source": [
    "cnf_percent_out_df.to_csv('SVMconfpercent.csv', index=False,header=True,encoding='utf-8')"
   ]
  },
  {
   "cell_type": "code",
   "execution_count": 12,
   "metadata": {},
   "outputs": [],
   "source": [
    "success_score_df.to_csv('SVMscore.csv', index=False,header=True,encoding='utf-8')"
   ]
  },
  {
   "cell_type": "code",
   "execution_count": null,
   "metadata": {},
   "outputs": [],
   "source": []
  }
 ],
 "metadata": {
  "kernelspec": {
   "display_name": "Python 3",
   "language": "python",
   "name": "python3"
  },
  "language_info": {
   "codemirror_mode": {
    "name": "ipython",
    "version": 3
   },
   "file_extension": ".py",
   "mimetype": "text/x-python",
   "name": "python",
   "nbconvert_exporter": "python",
   "pygments_lexer": "ipython3",
   "version": "3.6.5"
  }
 },
 "nbformat": 4,
 "nbformat_minor": 2
}
